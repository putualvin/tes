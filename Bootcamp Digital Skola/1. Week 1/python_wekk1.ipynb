{
 "cells": [
  {
   "cell_type": "code",
   "execution_count": 10,
   "metadata": {},
   "outputs": [],
   "source": [
    "import pandas as pd"
   ]
  },
  {
   "cell_type": "code",
   "execution_count": 1,
   "metadata": {},
   "outputs": [
    {
     "name": "stdout",
     "output_type": "stream",
     "text": [
      "farhan membeli 3.2 bola dengan menggunakan dollar USA\n"
     ]
    }
   ],
   "source": [
    "#z = Farhan membeli 3 bola dengan 3.2 dolar USA\n",
    "i = \"farhan membeli\"\n",
    "u=\"3.2\"\n",
    "x=\"bola dengan menggunakan\"\n",
    "y= \"dollar USA\"\n",
    "z = i+' '+u+' '+x+' '+y\n",
    "print(z)"
   ]
  },
  {
   "cell_type": "code",
   "execution_count": 2,
   "metadata": {},
   "outputs": [
    {
     "name": "stdout",
     "output_type": "stream",
     "text": [
      "[1, 2, 3, 4, 5, 4, 9]\n"
     ]
    }
   ],
   "source": [
    "#List\n",
    "x = [1,2,3,4,5]\n",
    "y = [4,9]\n",
    "\n",
    "z = x+y\n",
    "print(z)"
   ]
  },
  {
   "cell_type": "code",
   "execution_count": 3,
   "metadata": {},
   "outputs": [
    {
     "ename": "AttributeError",
     "evalue": "'tuple' object has no attribute 'append'",
     "output_type": "error",
     "traceback": [
      "\u001b[1;31m---------------------------------------------------------------------------\u001b[0m",
      "\u001b[1;31mAttributeError\u001b[0m                            Traceback (most recent call last)",
      "\u001b[1;32mc:\\Users\\PutuAndika\\OneDrive - Migo\\Desktop\\Data Engineer Project\\Bootcamp Digital Skola\\1. Week 1\\python_wekk1.ipynb Cell 3\u001b[0m in \u001b[0;36m<cell line: 4>\u001b[1;34m()\u001b[0m\n\u001b[0;32m      <a href='vscode-notebook-cell:/c%3A/Users/PutuAndika/OneDrive%20-%20Migo/Desktop/Data%20Engineer%20Project/Bootcamp%20Digital%20Skola/1.%20Week%201/python_wekk1.ipynb#W2sZmlsZQ%3D%3D?line=1'>2</a>\u001b[0m x\u001b[39m=\u001b[39m(\u001b[39m1\u001b[39m,\u001b[39m2\u001b[39m,\u001b[39m3\u001b[39m,\u001b[39m4\u001b[39m,\u001b[39m5\u001b[39m)\n\u001b[0;32m      <a href='vscode-notebook-cell:/c%3A/Users/PutuAndika/OneDrive%20-%20Migo/Desktop/Data%20Engineer%20Project/Bootcamp%20Digital%20Skola/1.%20Week%201/python_wekk1.ipynb#W2sZmlsZQ%3D%3D?line=2'>3</a>\u001b[0m y\u001b[39m=\u001b[39m(\u001b[39m1\u001b[39m,\u001b[39m4\u001b[39m)\n\u001b[1;32m----> <a href='vscode-notebook-cell:/c%3A/Users/PutuAndika/OneDrive%20-%20Migo/Desktop/Data%20Engineer%20Project/Bootcamp%20Digital%20Skola/1.%20Week%201/python_wekk1.ipynb#W2sZmlsZQ%3D%3D?line=3'>4</a>\u001b[0m x\u001b[39m.\u001b[39;49mappend(\u001b[39m20\u001b[39m)\n\u001b[0;32m      <a href='vscode-notebook-cell:/c%3A/Users/PutuAndika/OneDrive%20-%20Migo/Desktop/Data%20Engineer%20Project/Bootcamp%20Digital%20Skola/1.%20Week%201/python_wekk1.ipynb#W2sZmlsZQ%3D%3D?line=4'>5</a>\u001b[0m x\u001b[39m.\u001b[39mremove(\u001b[39m1\u001b[39m)\n",
      "\u001b[1;31mAttributeError\u001b[0m: 'tuple' object has no attribute 'append'"
     ]
    }
   ],
   "source": [
    "#Tuple\n",
    "x=(1,2,3,4,5)\n",
    "y=(1,4)\n",
    "x.append(20)\n",
    "x.remove(1)"
   ]
  },
  {
   "cell_type": "code",
   "execution_count": 4,
   "metadata": {},
   "outputs": [],
   "source": [
    "x= [(1,2)]"
   ]
  },
  {
   "cell_type": "code",
   "execution_count": 6,
   "metadata": {},
   "outputs": [
    {
     "data": {
      "text/plain": [
       "{1, 2, 3, 4}"
      ]
     },
     "execution_count": 6,
     "metadata": {},
     "output_type": "execute_result"
    }
   ],
   "source": [
    "#Set\n",
    "x = [1,1,2,3,4]\n",
    "set(x)"
   ]
  },
  {
   "cell_type": "code",
   "execution_count": 14,
   "metadata": {},
   "outputs": [],
   "source": [
    "#Dictionary\n",
    "x = {'nama':['Putu'], 'y':['gatau']}\n",
    "df = pd.DataFrame(x)"
   ]
  },
  {
   "cell_type": "code",
   "execution_count": 13,
   "metadata": {},
   "outputs": [
    {
     "data": {
      "text/plain": [
       "pandas.core.frame.DataFrame"
      ]
     },
     "execution_count": 13,
     "metadata": {},
     "output_type": "execute_result"
    }
   ],
   "source": [
    "type(df)"
   ]
  },
  {
   "cell_type": "code",
   "execution_count": 17,
   "metadata": {},
   "outputs": [
    {
     "data": {
      "text/html": [
       "<div><div id=d877aa16-6e3f-4db4-8f4a-7e53cbc80a49 style=\"display:none; background-color:#9D6CFF; color:white; width:200px; height:30px; padding-left:5px; border-radius:4px; flex-direction:row; justify-content:space-around; align-items:center;\" onmouseover=\"this.style.backgroundColor='#BA9BF8'\" onmouseout=\"this.style.backgroundColor='#9D6CFF'\" onclick=\"window.commands?.execute('create-mitosheet-from-dataframe-output');\">See Full Dataframe in Mito</div> <script> if (window.commands?.hasCommand('create-mitosheet-from-dataframe-output')) document.getElementById('d877aa16-6e3f-4db4-8f4a-7e53cbc80a49').style.display = 'flex' </script> <table border=\"1\" class=\"dataframe\">\n",
       "  <thead>\n",
       "    <tr style=\"text-align: right;\">\n",
       "      <th></th>\n",
       "      <th>nama</th>\n",
       "    </tr>\n",
       "  </thead>\n",
       "  <tbody>\n",
       "    <tr>\n",
       "      <th>0</th>\n",
       "      <td>Putu</td>\n",
       "    </tr>\n",
       "  </tbody>\n",
       "</table></div>"
      ],
      "text/plain": [
       "   nama\n",
       "0  Putu"
      ]
     },
     "execution_count": 17,
     "metadata": {},
     "output_type": "execute_result"
    }
   ],
   "source": [
    "import pandas as pd\n",
    "\n",
    "x = {'nama':['Putu']}\n",
    "df = pd.DataFrame(x)\n",
    "df"
   ]
  },
  {
   "cell_type": "code",
   "execution_count": 18,
   "metadata": {},
   "outputs": [
    {
     "name": "stdout",
     "output_type": "stream",
     "text": [
      "DigitalSkolaDigitalSkolaDigitalSkolaDigitalSkola\n"
     ]
    }
   ],
   "source": [
    "kelas = \"DigitalSkola\"\n",
    "print(kelas*4)"
   ]
  },
  {
   "cell_type": "code",
   "execution_count": 19,
   "metadata": {},
   "outputs": [
    {
     "name": "stdout",
     "output_type": "stream",
     "text": [
      "21\n"
     ]
    }
   ],
   "source": [
    "arr =[\n",
    "    [1,4,5,2,3],\n",
    "    [3,2,3,4,2],\n",
    "    [3,4,2,5,3],\n",
    "    [1,2,5,8,7]\n",
    "]\n",
    "nilai = arr[3][4]*arr[1][2]\n",
    "print(nilai)"
   ]
  },
  {
   "cell_type": "code",
   "execution_count": 20,
   "metadata": {},
   "outputs": [
    {
     "data": {
      "text/plain": [
       "10"
      ]
     },
     "execution_count": 20,
     "metadata": {},
     "output_type": "execute_result"
    }
   ],
   "source": [
    "stok = {'apel':10}\n",
    "stok['apel']"
   ]
  },
  {
   "cell_type": "code",
   "execution_count": 21,
   "metadata": {},
   "outputs": [
    {
     "name": "stdout",
     "output_type": "stream",
     "text": [
      "[1, 100, 23, 121, 32, 100]\n"
     ]
    }
   ],
   "source": [
    "angka = [1,100,23,121,32]\n",
    "angka.append(100)\n",
    "print(angka)"
   ]
  },
  {
   "cell_type": "code",
   "execution_count": 23,
   "metadata": {},
   "outputs": [
    {
     "name": "stdout",
     "output_type": "stream",
     "text": [
      "[1, 100, 23, 121]\n"
     ]
    }
   ],
   "source": [
    "angka = [1,100,23,121,32]\n",
    "angka.pop()\n",
    "print(angka)"
   ]
  },
  {
   "cell_type": "code",
   "execution_count": 25,
   "metadata": {},
   "outputs": [
    {
     "ename": "KeyError",
     "evalue": "'durian'",
     "output_type": "error",
     "traceback": [
      "\u001b[1;31m---------------------------------------------------------------------------\u001b[0m",
      "\u001b[1;31mKeyError\u001b[0m                                  Traceback (most recent call last)",
      "\u001b[1;32mc:\\Users\\PutuAndika\\OneDrive - Migo\\Desktop\\Data Engineer Project\\Bootcamp Digital Skola\\1. Week 1\\python_wekk1.ipynb Cell 15\u001b[0m in \u001b[0;36m<cell line: 3>\u001b[1;34m()\u001b[0m\n\u001b[0;32m      <a href='vscode-notebook-cell:/c%3A/Users/PutuAndika/OneDrive%20-%20Migo/Desktop/Data%20Engineer%20Project/Bootcamp%20Digital%20Skola/1.%20Week%201/python_wekk1.ipynb#X21sZmlsZQ%3D%3D?line=0'>1</a>\u001b[0m stok \u001b[39m=\u001b[39m {\u001b[39m'\u001b[39m\u001b[39mapel\u001b[39m\u001b[39m'\u001b[39m:\u001b[39m10\u001b[39m,\n\u001b[0;32m      <a href='vscode-notebook-cell:/c%3A/Users/PutuAndika/OneDrive%20-%20Migo/Desktop/Data%20Engineer%20Project/Bootcamp%20Digital%20Skola/1.%20Week%201/python_wekk1.ipynb#X21sZmlsZQ%3D%3D?line=1'>2</a>\u001b[0m         \u001b[39m'\u001b[39m\u001b[39mmangga\u001b[39m\u001b[39m'\u001b[39m:\u001b[39m10\u001b[39m}\n\u001b[1;32m----> <a href='vscode-notebook-cell:/c%3A/Users/PutuAndika/OneDrive%20-%20Migo/Desktop/Data%20Engineer%20Project/Bootcamp%20Digital%20Skola/1.%20Week%201/python_wekk1.ipynb#X21sZmlsZQ%3D%3D?line=2'>3</a>\u001b[0m stok[\u001b[39m'\u001b[39;49m\u001b[39mdurian\u001b[39;49m\u001b[39m'\u001b[39;49m]\n",
      "\u001b[1;31mKeyError\u001b[0m: 'durian'"
     ]
    }
   ],
   "source": [
    "stok = {'apel':10,\n",
    "        'mangga':10}\n",
    "stok['durian']"
   ]
  },
  {
   "cell_type": "code",
   "execution_count": 27,
   "metadata": {},
   "outputs": [
    {
     "data": {
      "text/plain": [
       "10"
      ]
     },
     "execution_count": 27,
     "metadata": {},
     "output_type": "execute_result"
    }
   ],
   "source": [
    "angka = (4,2,10)\n",
    "angka[2]"
   ]
  },
  {
   "cell_type": "code",
   "execution_count": 28,
   "metadata": {},
   "outputs": [
    {
     "name": "stdout",
     "output_type": "stream",
     "text": [
      "{1, 3, 5}\n"
     ]
    }
   ],
   "source": [
    "angka = {1,5,3}\n",
    "angka.add(1)\n",
    "print(angka)"
   ]
  },
  {
   "cell_type": "code",
   "execution_count": 29,
   "metadata": {},
   "outputs": [
    {
     "name": "stdout",
     "output_type": "stream",
     "text": [
      "{0, 1, 3, 5}\n"
     ]
    }
   ],
   "source": [
    "angka = {1,5,3}\n",
    "angka.add(0)\n",
    "print(angka)"
   ]
  }
 ],
 "metadata": {
  "kernelspec": {
   "display_name": "geo_env",
   "language": "python",
   "name": "python3"
  },
  "language_info": {
   "codemirror_mode": {
    "name": "ipython",
    "version": 3
   },
   "file_extension": ".py",
   "mimetype": "text/x-python",
   "name": "python",
   "nbconvert_exporter": "python",
   "pygments_lexer": "ipython3",
   "version": "3.10.4"
  },
  "orig_nbformat": 4
 },
 "nbformat": 4,
 "nbformat_minor": 2
}
