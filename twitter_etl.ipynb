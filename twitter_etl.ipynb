{
 "cells": [
  {
   "cell_type": "code",
   "execution_count": 1,
   "metadata": {},
   "outputs": [],
   "source": [
    "import tweepy\n",
    "import pandas as pd\n",
    "import json\n",
    "from datetime import datetime\n",
    "import s3fs"
   ]
  },
  {
   "cell_type": "code",
   "execution_count": 8,
   "metadata": {},
   "outputs": [],
   "source": [
    "#Prepare the keys\n",
    "bearer_token = 'AAAAAAAAAAAAAAAAAAAAANUmnAEAAAAA1uK0W3XaE%2BZ0P%2Fy7ulxxfj73UMU%3DyqawXy5o5vWiA4tD1wmn5FdTzPlWovTHhJccJTaijOzeVQd330'\n",
    "api_key = 'dS0vyFUSUxlGKK1NNWow3Ris1'\n",
    "api_secret = 'TrdkvyjS4GSxGi5CAk5HCgFTf4CIYxjzlXFLk2UyUkgxdPtTf8'\n",
    "access_token = '322575082-w6LEaNjp7uanwsJyizomJWneszB3ZoXAaqsyqRvO'\n",
    "access_secret = 'xcOBY0iVkA619NAUe2HpMhoI1rn69TWG3P33LMHLp5ixW'"
   ]
  },
  {
   "cell_type": "code",
   "execution_count": 14,
   "metadata": {},
   "outputs": [],
   "source": [
    "#Twitter Authentication\n",
    "auth = tweepy.Client(bearer_token=bearer_token, consumer_key=api_key, consumer_secret=api_secret,\n",
    "                     access_token=access_token,\n",
    "                     access_token_secret  = access_secret,\n",
    "                     return_type='dict')"
   ]
  },
  {
   "cell_type": "code",
   "execution_count": 12,
   "metadata": {},
   "outputs": [],
   "source": [
    "#Create API\n",
    "api = tweepy.API(auth)"
   ]
  },
  {
   "cell_type": "code",
   "execution_count": 15,
   "metadata": {},
   "outputs": [
    {
     "ename": "AttributeError",
     "evalue": "'Client' object has no attribute 'user_timeline'",
     "output_type": "error",
     "traceback": [
      "\u001b[1;31m---------------------------------------------------------------------------\u001b[0m",
      "\u001b[1;31mAttributeError\u001b[0m                            Traceback (most recent call last)",
      "\u001b[1;32mc:\\Users\\PutuAndika\\OneDrive - Migo\\Desktop\\Data Engineer Project\\twitter_etl.ipynb Cell 5\u001b[0m in \u001b[0;36m<cell line: 1>\u001b[1;34m()\u001b[0m\n\u001b[1;32m----> <a href='vscode-notebook-cell:/c%3A/Users/PutuAndika/OneDrive%20-%20Migo/Desktop/Data%20Engineer%20Project/twitter_etl.ipynb#W4sZmlsZQ%3D%3D?line=0'>1</a>\u001b[0m tweets \u001b[39m=\u001b[39m auth\u001b[39m.\u001b[39;49muser_timeline(screen_name \u001b[39m=\u001b[39m \u001b[39m'\u001b[39m\u001b[39m@elonmusk\u001b[39m\u001b[39m'\u001b[39m,\n\u001b[0;32m      <a href='vscode-notebook-cell:/c%3A/Users/PutuAndika/OneDrive%20-%20Migo/Desktop/Data%20Engineer%20Project/twitter_etl.ipynb#W4sZmlsZQ%3D%3D?line=1'>2</a>\u001b[0m                            count \u001b[39m=\u001b[39m \u001b[39m200\u001b[39m,\n\u001b[0;32m      <a href='vscode-notebook-cell:/c%3A/Users/PutuAndika/OneDrive%20-%20Migo/Desktop/Data%20Engineer%20Project/twitter_etl.ipynb#W4sZmlsZQ%3D%3D?line=2'>3</a>\u001b[0m                            include_rts \u001b[39m=\u001b[39m \u001b[39mFalse\u001b[39;00m\n\u001b[0;32m      <a href='vscode-notebook-cell:/c%3A/Users/PutuAndika/OneDrive%20-%20Migo/Desktop/Data%20Engineer%20Project/twitter_etl.ipynb#W4sZmlsZQ%3D%3D?line=3'>4</a>\u001b[0m                            )\n",
      "\u001b[1;31mAttributeError\u001b[0m: 'Client' object has no attribute 'user_timeline'"
     ]
    }
   ],
   "source": [
    "tweets = api.user_timeline(screen_name = '@elonmusk',\n",
    "                           count = 200,\n",
    "                           include_rts = False\n",
    "                           )"
   ]
  }
 ],
 "metadata": {
  "kernelspec": {
   "display_name": "geo_env",
   "language": "python",
   "name": "python3"
  },
  "language_info": {
   "codemirror_mode": {
    "name": "ipython",
    "version": 3
   },
   "file_extension": ".py",
   "mimetype": "text/x-python",
   "name": "python",
   "nbconvert_exporter": "python",
   "pygments_lexer": "ipython3",
   "version": "3.10.4"
  },
  "orig_nbformat": 4
 },
 "nbformat": 4,
 "nbformat_minor": 2
}
